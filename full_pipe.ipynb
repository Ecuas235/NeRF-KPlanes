{
 "cells": [
  {
   "cell_type": "markdown",
   "metadata": {},
   "source": [
    "# Imports"
   ]
  },
  {
   "cell_type": "code",
   "execution_count": 1,
   "metadata": {},
   "outputs": [],
   "source": [
    "import torch\n",
    "import numpy as np\n",
    "import os\n",
    "import imageio\n",
    "import matplotlib.pyplot as plt\n",
    "from torch.utils.data import DataLoader\n",
    "\n",
    "import json\n",
    "import os\n",
    "from tqdm import tqdm"
   ]
  },
  {
   "cell_type": "markdown",
   "metadata": {},
   "source": [
    "# Dataset"
   ]
  },
  {
   "cell_type": "markdown",
   "metadata": {},
   "source": [
    "## Create Data"
   ]
  },
  {
   "cell_type": "code",
   "execution_count": 2,
   "metadata": {},
   "outputs": [],
   "source": [
    "################################## For sample Data ##################################\n",
    "def get_rays(datapath, mode=\"train\"):\n",
    "\n",
    "    pose_file_names = [\n",
    "        f for f in os.listdir(datapath + f\"/{mode}/pose\") if f.endswith(\".txt\")\n",
    "    ]\n",
    "    intrisics_file_names = [\n",
    "        f for f in os.listdir(datapath + f\"/{mode}/intrinsics\") if f.endswith(\".txt\")\n",
    "    ]\n",
    "    img_file_names = [f for f in os.listdir(datapath + \"/imgs\") if mode in f]\n",
    "\n",
    "    assert len(pose_file_names) == len(intrisics_file_names)\n",
    "    assert len(img_file_names) == len(pose_file_names)\n",
    "\n",
    "    # Read\n",
    "    N = len(pose_file_names)\n",
    "    poses = np.zeros((N, 4, 4))\n",
    "    intrinsics = np.zeros((N, 4, 4))\n",
    "\n",
    "    images = []\n",
    "\n",
    "    for i in range(N):\n",
    "        name = pose_file_names[i]\n",
    "\n",
    "        pose = open(datapath + f\"/{mode}/pose/\" + name).read().split()\n",
    "        poses[i] = np.array(pose, dtype=float).reshape(4, 4)\n",
    "\n",
    "        intrinsic = open(datapath + f\"/{mode}/intrinsics/\" + name).read().split()\n",
    "        intrinsics[i] = np.array(intrinsic, dtype=float).reshape(4, 4)\n",
    "\n",
    "        # Read images\n",
    "        img = imageio.imread(datapath + \"/imgs/\" + name.replace(\"txt\", \"png\")) / 255.0\n",
    "        images.append(img[None, ...])\n",
    "    images = np.concatenate(images)\n",
    "\n",
    "    H = images.shape[1]\n",
    "    W = images.shape[2]\n",
    "\n",
    "    if images.shape[3] == 4:  # RGBA -> RGB\n",
    "        images = images[..., :3] * images[..., -1:] + (1 - images[..., -1:])\n",
    "\n",
    "    rays_o = np.zeros((N, H * W, 3))\n",
    "    rays_d = np.zeros((N, H * W, 3))\n",
    "    target_px_values = images.reshape((N, H * W, 3))\n",
    "\n",
    "    for i in range(N):\n",
    "\n",
    "        c2w = poses[i]\n",
    "        f = intrinsics[i, 0, 0]\n",
    "\n",
    "        u = np.arange(W)\n",
    "        v = np.arange(H)\n",
    "        u, v = np.meshgrid(u, v)\n",
    "        dirs = np.stack((u - W / 2, -(v - H / 2), -np.ones_like(u) * f), axis=-1)\n",
    "        dirs = (c2w[:3, :3] @ dirs[..., None]).squeeze(-1)\n",
    "        dirs = dirs / np.linalg.norm(dirs, axis=-1, keepdims=True)\n",
    "\n",
    "        rays_d[i] = dirs.reshape(-1, 3)\n",
    "        rays_o[i] += c2w[:3, 3]\n",
    "\n",
    "    return rays_o, rays_d, target_px_values\n"
   ]
  },
  {
   "cell_type": "code",
   "execution_count": 4,
   "metadata": {},
   "outputs": [
    {
     "name": "stderr",
     "output_type": "stream",
     "text": [
      "/var/folders/76/8q2f8pb568911qbxyw16cpxw0000gn/T/ipykernel_44577/4039139909.py:32: DeprecationWarning: Starting with ImageIO v3 the behavior of this function will switch to that of iio.v3.imread. To keep the current behavior (and make this warning disappear) use `import imageio.v2 as imageio` or call `imageio.v2.imread` directly.\n",
      "  img = imageio.imread(datapath + \"/imgs/\" + name.replace(\"txt\", \"png\")) / 255.0\n"
     ]
    }
   ],
   "source": [
    "a,b,c = get_rays('./data_raw/fox')"
   ]
  },
  {
   "cell_type": "code",
   "execution_count": 10,
   "metadata": {},
   "outputs": [],
   "source": [
    "################################## ns-process-data output ##################################\n",
    "\n",
    "def get_rays(datapath):\n",
    "    f = open(datapath)\n",
    "    data = json.load(f)\n",
    "\n",
    "    N = len(np.array(data[\"frames\"]))\n",
    "\n",
    "    # Make array for poses (placeholder)\n",
    "    poses = np.zeros((N, 4, 4))\n",
    "\n",
    "    # Make intrinsics array\n",
    "    intrinsics = np.zeros((N, 4, 4))\n",
    "    intrinsics[:, 0, 0] = data[\"fl_x\"]\n",
    "    intrinsics[:, 0, 2] = data[\"cx\"]\n",
    "    intrinsics[:, 1, 1] = data[\"fl_y\"]\n",
    "    intrinsics[:, 1, 2] = data[\"cy\"]\n",
    "    intrinsics[:, 2, 2] = 1\n",
    "    intrinsics[:, 3, 3] = 1\n",
    "\n",
    "    # Make images array\n",
    "    images = []\n",
    "\n",
    "    #! Temporary 10 images\n",
    "    for i in tqdm(range(N), desc=\"Loading Images...\", colour=\"red\"):\n",
    "        pose = np.array(data[\"frames\"][i][\"transform_matrix\"], dtype=float)\n",
    "        poses[i] = pose\n",
    "\n",
    "        img = (\n",
    "            imageio.imread(f\"./ns_opt_res_ferrari/{data['frames'][i]['file_path']}\")\n",
    "            / 255.0\n",
    "        )\n",
    "        images.append(img[None, ...])\n",
    "\n",
    "    print(\"Running concatenation...\")\n",
    "    images = np.concatenate(images)\n",
    "\n",
    "    H = images.shape[1]\n",
    "    W = images.shape[2]\n",
    "\n",
    "    # For tranparent images\n",
    "    if images.shape[3] == 4:  # RGBA ->  RGB\n",
    "        images = images[..., :3] * images[..., -1:] + (1 - images[..., -1])\n",
    "\n",
    "    # Ray Origins\n",
    "    rays_o = np.zeros((N, H * W, 3))\n",
    "    # Ray Directions\n",
    "    rays_d = np.zeros((N, H * W, 3))\n",
    "    # Image target\n",
    "    target_px_values = images.reshape((N, H * W, 3))\n",
    "\n",
    "    for i in tqdm(range(N), desc=\"Generating rays...\", colour=\"green\"):\n",
    "\n",
    "        c2w = poses[i]\n",
    "        f = intrinsics[i, 0, 0]\n",
    "\n",
    "        u = np.arange(W)\n",
    "        v = np.arange(H)\n",
    "        u, v = np.meshgrid(u, v)\n",
    "        dirs = np.stack((u - W / 2, -(v - H / 2), -np.ones_like(u) * f), axis=-1)\n",
    "\n",
    "        # Accounting for theta (camera angle)\n",
    "        dirs = (c2w[:3, :3] @ dirs[..., None]).squeeze(-1)\n",
    "        dirs = dirs / np.linalg.norm(dirs, axis=-1, keepdims=True)\n",
    "\n",
    "        rays_d[i] = dirs.reshape(-1, 3)\n",
    "        rays_o[i] += c2w[:3, 3]\n",
    "\n",
    "    return rays_o, rays_d, target_px_values"
   ]
  },
  {
   "cell_type": "code",
   "execution_count": 11,
   "metadata": {},
   "outputs": [
    {
     "name": "stderr",
     "output_type": "stream",
     "text": [
      "Loading Images...:   0%|\u001b[31m          \u001b[0m| 0/223 [00:00<?, ?it/s]/var/folders/76/8q2f8pb568911qbxyw16cpxw0000gn/T/ipykernel_25856/2015895753.py:30: DeprecationWarning: Starting with ImageIO v3 the behavior of this function will switch to that of iio.v3.imread. To keep the current behavior (and make this warning disappear) use `import imageio.v2 as imageio` or call `imageio.v2.imread` directly.\n",
      "  imageio.imread(f\"./ns_opt_res_ferrari/{data['frames'][i]['file_path']}\")\n",
      "Loading Images...: 100%|\u001b[31m██████████\u001b[0m| 223/223 [00:01<00:00, 201.48it/s]\n"
     ]
    },
    {
     "name": "stdout",
     "output_type": "stream",
     "text": [
      "Running concatenation...\n"
     ]
    },
    {
     "name": "stderr",
     "output_type": "stream",
     "text": [
      "Generating rays...: 100%|\u001b[32m██████████\u001b[0m| 223/223 [00:04<00:00, 48.26it/s]\n"
     ]
    }
   ],
   "source": [
    "a,b,c = get_rays(\"../data_raw/ns_opt_res_ferrari/\")"
   ]
  },
  {
   "cell_type": "code",
   "execution_count": 9,
   "metadata": {},
   "outputs": [
    {
     "data": {
      "text/plain": [
       "<matplotlib.image.AxesImage at 0x1548ce250>"
      ]
     },
     "execution_count": 9,
     "metadata": {},
     "output_type": "execute_result"
    },
    {
     "data": {
      "image/png": "[encoded data removed]",
      "text/plain": [
       "<Figure size 640x480 with 1 Axes>"
      ]
     },
     "metadata": {},
     "output_type": "display_data"
    }
   ],
   "source": [
    "# Fox data: 400x400\n",
    "# Ferrari data: 960x540\n",
    "# HxW format\n",
    "plt.imshow(c[3].reshape(400, 400, 3)[:, :, :3])"
   ]
  },
  {
   "cell_type": "markdown",
   "metadata": {},
   "source": [
    "## Create Loader"
   ]
  },
  {
   "cell_type": "markdown",
   "metadata": {},
   "source": [
    "### Live Processing"
   ]
  },
  {
   "cell_type": "code",
   "execution_count": 10,
   "metadata": {},
   "outputs": [],
   "source": [
    "flat_data = torch.cat((torch.from_numpy(a).reshape(-1, 3),\n",
    "                                   torch.from_numpy(b).reshape(-1, 3),\n",
    "                                   torch.from_numpy(c).reshape(-1, 3)), dim=1).float() #? -> [n, [ray_o_x, ray_o_y, ray_o_z, ray_d_x, ray_d_y, ray_d_z, px_r, px_g, px_b]]"
   ]
  },
  {
   "cell_type": "code",
   "execution_count": 11,
   "metadata": {},
   "outputs": [
    {
     "name": "stdout",
     "output_type": "stream",
     "text": [
      "(90, 160000, 3)\n",
      "(90, 160000, 3)\n",
      "(90, 160000, 3)\n"
     ]
    }
   ],
   "source": [
    "print(a.shape)\n",
    "print(b.shape)\n",
    "print(c.shape)"
   ]
  },
  {
   "cell_type": "code",
   "execution_count": 12,
   "metadata": {},
   "outputs": [],
   "source": [
    "dataloader = DataLoader(flat_data, batch_size=1000)"
   ]
  },
  {
   "cell_type": "markdown",
   "metadata": {},
   "source": [
    "### Load Processed Data"
   ]
  },
  {
   "cell_type": "code",
   "execution_count": 21,
   "metadata": {},
   "outputs": [],
   "source": [
    "load_data = np.load('./ferrari.npy')\n",
    "dataloader = DataLoader(torch.from_numpy(load_data), batch_size=1200)"
   ]
  },
  {
   "cell_type": "code",
   "execution_count": 22,
   "metadata": {},
   "outputs": [
    {
     "data": {
      "text/plain": [
       "array([[ 3.9522374 ,  0.17581683, -0.13746329, ...,  0.54509807,\n",
       "         0.34901962,  0.21960784],\n",
       "       [ 3.9522374 ,  0.17581683, -0.13746329, ...,  0.54509807,\n",
       "         0.34901962,  0.21960784],\n",
       "       [ 3.9522374 ,  0.17581683, -0.13746329, ...,  0.54901963,\n",
       "         0.3529412 ,  0.22352941],\n",
       "       ...,\n",
       "       [ 3.8292801 , -0.55503815, -1.0296626 , ...,  0.8392157 ,\n",
       "         0.8509804 ,  0.87058824],\n",
       "       [ 3.8292801 , -0.55503815, -1.0296626 , ...,  0.84313726,\n",
       "         0.85490197,  0.8745098 ],\n",
       "       [ 3.8292801 , -0.55503815, -1.0296626 , ...,  0.84313726,\n",
       "         0.85490197,  0.8745098 ]], dtype=float32)"
      ]
     },
     "execution_count": 22,
     "metadata": {},
     "output_type": "execute_result"
    }
   ],
   "source": [
    "load_data.shape"
   ]
  },
  {
   "cell_type": "markdown",
   "metadata": {},
   "source": [
    "# K-Planes Implementation"
   ]
  },
  {
   "cell_type": "code",
   "execution_count": 17,
   "metadata": {},
   "outputs": [],
   "source": [
    "import torch\n",
    "import numpy as np\n",
    "from tqdm import tqdm\n",
    "import torch.nn as nn\n",
    "import matplotlib.pyplot as plt\n",
    "from torch.utils.data import DataLoader\n",
    "\n",
    "\n",
    "def to_cartesian(theta_phi):\n",
    "    return torch.stack(\n",
    "        [\n",
    "            torch.sin(theta_phi[:, 0]) * torch.cos(theta_phi[:, 1]),\n",
    "            torch.sin(theta_phi[:, 0]) * torch.sin(theta_phi[:, 1]),\n",
    "            torch.cos(theta_phi[:, 0]),\n",
    "        ],\n",
    "        axis=1,\n",
    "    )\n",
    "\n",
    "\n",
    "class NerfModel(nn.Module):\n",
    "    def __init__(self, embedding_dim_pos=20, embedding_dim_direction=8, hidden_dim=128):\n",
    "        super(NerfModel, self).__init__()\n",
    "\n",
    "        self.block1 = nn.Sequential(\n",
    "            nn.Linear(embedding_dim_pos * 3, hidden_dim),\n",
    "            nn.ReLU(),\n",
    "            nn.Linear(hidden_dim, hidden_dim),\n",
    "            nn.ReLU(),\n",
    "            nn.Linear(hidden_dim, hidden_dim),\n",
    "            nn.ReLU(),\n",
    "            nn.Linear(hidden_dim, hidden_dim),\n",
    "            nn.ReLU(),\n",
    "        )\n",
    "\n",
    "        self.block2 = nn.Sequential(\n",
    "            nn.Linear(embedding_dim_pos * 3 + hidden_dim, hidden_dim),\n",
    "            nn.ReLU(),\n",
    "            nn.Linear(hidden_dim, hidden_dim),\n",
    "            nn.ReLU(),\n",
    "            nn.Linear(hidden_dim, hidden_dim),\n",
    "            nn.ReLU(),\n",
    "            nn.Linear(hidden_dim, hidden_dim + 1),\n",
    "        )\n",
    "\n",
    "        self.block3 = nn.Sequential(\n",
    "            nn.Linear(hidden_dim, hidden_dim // 2),\n",
    "            nn.ReLU(),\n",
    "        )\n",
    "        self.block4 = nn.Sequential(\n",
    "            nn.Linear(hidden_dim // 2, 75),\n",
    "        )\n",
    "\n",
    "        self.embedding_dim_pos = embedding_dim_pos\n",
    "        self.embedding_dim_direction = embedding_dim_direction\n",
    "        self.relu = nn.ReLU()\n",
    "\n",
    "        self.bandwidth = nn.Parameter(torch.zeros((1, 25)))\n",
    "        self.p = nn.Parameter(torch.randn((25, 2)))\n",
    "\n",
    "    @staticmethod\n",
    "    def positional_encoding(x, L):\n",
    "        out = torch.empty(x.shape[0], x.shape[1] * 2 * L, device=x.device)\n",
    "        for i in range(x.shape[1]):\n",
    "            for j in range(L):\n",
    "                out[:, i * (2 * L) + 2 * j] = torch.sin(2**j * x[:, i])\n",
    "                out[:, i * (2 * L) + 2 * j + 1] = torch.cos(2**j * x[:, i])\n",
    "        return out\n",
    "\n",
    "    def forward(self, o, d):\n",
    "        emb_x = self.positional_encoding(o, self.embedding_dim_pos // 2)\n",
    "        h = self.block1(emb_x)\n",
    "        tmp = self.block2(torch.cat((h, emb_x), dim=1))\n",
    "        h, sigma = tmp[:, :-1], self.relu(tmp[:, -1])\n",
    "        h = self.block3(h)\n",
    "        k = self.block4(h).reshape(o.shape[0], 25, 3)\n",
    "\n",
    "        c = (\n",
    "            k\n",
    "            * torch.exp(\n",
    "                (\n",
    "                    self.bandwidth.unsqueeze(-1)\n",
    "                    * to_cartesian(self.p).unsqueeze(0)\n",
    "                    * d.unsqueeze(1)\n",
    "                )\n",
    "            )\n",
    "        ).sum(1)\n",
    "\n",
    "        return torch.sigmoid(c), sigma\n",
    "\n",
    "\n",
    "@torch.no_grad()\n",
    "def test(hn, hf, dataset, chunk_size=10, img_index=0, nb_bins=192, H=400, W=400):\n",
    "    ray_origins = dataset[img_index * H * W : (img_index + 1) * H * W, :3]\n",
    "    ray_directions = dataset[img_index * H * W : (img_index + 1) * H * W, 3:6]\n",
    "\n",
    "    data = []\n",
    "    for i in tqdm(range(int(np.ceil(H / chunk_size)))):\n",
    "        ray_origins_ = ray_origins[i * W * chunk_size : (i + 1) * W * chunk_size].to(\n",
    "            device\n",
    "        )\n",
    "        ray_directions_ = ray_directions[\n",
    "            i * W * chunk_size : (i + 1) * W * chunk_size\n",
    "        ].to(device)\n",
    "        regenerated_px_values = render_rays(\n",
    "            model, ray_origins_, ray_directions_, hn=hn, hf=hf, nb_bins=nb_bins\n",
    "        )\n",
    "        data.append(regenerated_px_values)\n",
    "\n",
    "    img = torch.cat(data).data.cpu().numpy().reshape(H, W, 3)\n",
    "    plt.figure()\n",
    "    plt.imshow(img)\n",
    "    plt.savefig(f\"{img_index}.png\", bbox_inches=\"tight\")\n",
    "    plt.close()\n",
    "\n",
    "\n",
    "def compute_accumulated_transmittance(alphas):\n",
    "    accumulated_transmittance = torch.cumprod(alphas, 1)\n",
    "    return torch.cat(\n",
    "        (\n",
    "            torch.ones((accumulated_transmittance.shape[0], 1), device=alphas.device),\n",
    "            accumulated_transmittance[:, :-1],\n",
    "        ),\n",
    "        dim=-1,\n",
    "    )\n",
    "\n",
    "\n",
    "def render_rays(nerf_model, ray_origins, ray_directions, hn=0, hf=0.5, nb_bins=192):\n",
    "    device = ray_origins.device\n",
    "    t = torch.linspace(hn, hf, nb_bins, device=device).expand(\n",
    "        ray_origins.shape[0], nb_bins\n",
    "    )\n",
    "    # Perturb sampling along each ray.\n",
    "    mid = (t[:, :-1] + t[:, 1:]) / 2.0\n",
    "    lower = torch.cat((t[:, :1], mid), -1)\n",
    "    upper = torch.cat((mid, t[:, -1:]), -1)\n",
    "    u = torch.rand(t.shape, device=device)\n",
    "    t = lower + (upper - lower) * u  # [batch_size, nb_bins]\n",
    "    delta = torch.cat(\n",
    "        (\n",
    "            t[:, 1:] - t[:, :-1],\n",
    "            torch.tensor([1e10], device=device).expand(ray_origins.shape[0], 1),\n",
    "        ),\n",
    "        -1,\n",
    "    )\n",
    "\n",
    "    x = ray_origins.unsqueeze(1) + t.unsqueeze(2) * ray_directions.unsqueeze(\n",
    "        1\n",
    "    )  # [batch_size, nb_bins, 3]\n",
    "    ray_directions = ray_directions.expand(\n",
    "        nb_bins, ray_directions.shape[0], 3\n",
    "    ).transpose(0, 1)\n",
    "\n",
    "    colors, sigma = nerf_model(x.reshape(-1, 3), ray_directions.reshape(-1, 3))\n",
    "    colors = colors.reshape(x.shape)\n",
    "    sigma = sigma.reshape(x.shape[:-1])\n",
    "\n",
    "    alpha = 1 - torch.exp(-sigma * delta)  # [batch_size, nb_bins]\n",
    "    weights = compute_accumulated_transmittance(1 - alpha).unsqueeze(\n",
    "        2\n",
    "    ) * alpha.unsqueeze(2)\n",
    "    c = (weights * colors).sum(dim=1)  # Pixel values\n",
    "    weight_sum = weights.sum(-1).sum(-1)  # Regularization for white background\n",
    "    return c + 1 - weight_sum.unsqueeze(-1)\n",
    "\n",
    "\n",
    "def train(\n",
    "    nerf_model,\n",
    "    optimizer,\n",
    "    scheduler,\n",
    "    data_loader,\n",
    "    device=\"cpu\",\n",
    "    hn=0,\n",
    "    hf=1,\n",
    "    nb_epochs=int(1e5),\n",
    "    nb_bins=192,\n",
    "):\n",
    "    img_size = 960 * 540\n",
    "    training_loss = []\n",
    "    pre_img = []\n",
    "    acc_rays = 0\n",
    "    for _ in range(nb_epochs):\n",
    "        for batch in tqdm(data_loader):\n",
    "            ray_origins = batch[:, :3].to(device)\n",
    "            ray_directions = batch[:, 3:6].to(device)\n",
    "            ground_truth_px_values = batch[:, 6:].to(device)\n",
    "\n",
    "            regenerated_px_values = render_rays(\n",
    "                nerf_model, ray_origins, ray_directions, hn=hn, hf=hf, nb_bins=nb_bins\n",
    "            )\n",
    "            \n",
    "            if acc_rays < img_size:\n",
    "                pre_img.append(regenerated_px_values)\n",
    "                acc_rays += regenerated_px_values.shape[0]\n",
    "            \n",
    "            else:\n",
    "                pre_img = torch.cat(pre_img).detach().cpu().numpy().reshape(540,960,3)\n",
    "                print(pre_img.mean())\n",
    "                plt.imshow(pre_img)\n",
    "                plt.title(f'{batch.mean()}')\n",
    "                plt.show()\n",
    "                \n",
    "                pre_img = []\n",
    "                acc_rays = 0\n",
    "            # MSE\n",
    "            \n",
    "            loss = ((ground_truth_px_values - regenerated_px_values) ** 2).sum()\n",
    "\n",
    "            optimizer.zero_grad()\n",
    "            loss.backward()\n",
    "            optimizer.step()\n",
    "            training_loss.append(loss.item())\n",
    "        scheduler.step()\n",
    "        torch.save(nerf_model.cpu(), \"nerf_model_plex\")\n",
    "        nerf_model.to(device)\n",
    "\n",
    "    return training_loss"
   ]
  },
  {
   "cell_type": "code",
   "execution_count": null,
   "metadata": {},
   "outputs": [],
   "source": [
    "if __name__ == \"__main__\":\n",
    "    device = \"mps\"\n",
    "    # training_dataset = torch.from_numpy(\n",
    "    #     np.load(\"./training_data_.pkl\", allow_pickle=True)\n",
    "    # )\n",
    "\n",
    "    # testing_dataset = torch.from_numpy(np.load(\"./testing_data.pkl\", allow_pickle=True))\n",
    "    model = NerfModel(hidden_dim=256).to(device)\n",
    "    # model = torch.load(\"./nerf_model_plex\", map_location=torch.device(\"mps\"))\n",
    "    model_optimizer = torch.optim.Adam(model.parameters(), lr=5e-4)\n",
    "    scheduler = torch.optim.lr_scheduler.MultiStepLR(\n",
    "        model_optimizer, milestones=[2, 4, 8], gamma=0.5\n",
    "    )\n",
    "\n",
    "    data_loader = dataloader\n",
    "    # data_loader = DataLoader(training_dataset, batch_size=1024, shuffle=True)\n",
    "    ac = train(\n",
    "        model,\n",
    "        model_optimizer,\n",
    "        scheduler,\n",
    "        data_loader,\n",
    "        nb_epochs=14,\n",
    "        device=device,\n",
    "        hn=8,\n",
    "        hf=12,\n",
    "        nb_bins=100,\n",
    "    )\n",
    "\n",
    "    # for img_index in range(200):\n",
    "    #     test(8, 12, dataloader, img_index=img_index, nb_bins=100, H=400, W=400)\n"
   ]
  },
  {
   "cell_type": "code",
   "execution_count": null,
   "metadata": {},
   "outputs": [],
   "source": [
    "plt.imshow(torch.cat(ac).detach().cpu().numpy().reshape(400,400,3))"
   ]
  },
  {
   "cell_type": "markdown",
   "metadata": {},
   "source": [
    "### NeRF"
   ]
  },
  {
   "cell_type": "code",
   "execution_count": 15,
   "metadata": {},
   "outputs": [],
   "source": [
    "import torch\n",
    "import torch.nn as nn\n",
    "\n",
    "\n",
    "class Voxels(nn.Module):\n",
    "\n",
    "    def __init__(self, nb_voxels=100, scale=1, device=\"cpu\"):\n",
    "        super(Voxels, self).__init__()\n",
    "\n",
    "        self.voxels = torch.nn.Parameter(\n",
    "            torch.rand(\n",
    "                (nb_voxels, nb_voxels, nb_voxels, 4), device=device, requires_grad=True\n",
    "            )\n",
    "        )\n",
    "\n",
    "        self.nb_voxels = nb_voxels\n",
    "        self.device = device\n",
    "        self.scale = scale\n",
    "\n",
    "    def forward(self, xyz, d):\n",
    "\n",
    "        x = xyz[:, 0]\n",
    "        y = xyz[:, 1]\n",
    "        z = xyz[:, 2]\n",
    "\n",
    "        cond = (\n",
    "            (x.abs() < (self.scale / 2))\n",
    "            & (y.abs() < (self.scale / 2))\n",
    "            & (z.abs() < (self.scale / 2))\n",
    "        )\n",
    "\n",
    "        indx = (x[cond] / (self.scale / self.nb_voxels) + self.nb_voxels / 2).type(\n",
    "            torch.long\n",
    "        )\n",
    "        indy = (y[cond] / (self.scale / self.nb_voxels) + self.nb_voxels / 2).type(\n",
    "            torch.long\n",
    "        )\n",
    "        indz = (z[cond] / (self.scale / self.nb_voxels) + self.nb_voxels / 2).type(\n",
    "            torch.long\n",
    "        )\n",
    "\n",
    "        colors_and_densities = torch.zeros((xyz.shape[0], 4), device=xyz.device)\n",
    "        colors_and_densities[cond, :3] = self.voxels[indx, indy, indz, :3]\n",
    "        colors_and_densities[cond, -1] = self.voxels[indx, indy, indz, -1]\n",
    "\n",
    "        return torch.sigmoid(colors_and_densities[:, :3]), torch.relu(\n",
    "            colors_and_densities[:, -1:]\n",
    "        )\n",
    "\n",
    "    def intersect(self, x, d):\n",
    "        return self.forward(x, d)\n",
    "\n",
    "\n",
    "class Nerf(nn.Module):\n",
    "\n",
    "    def __init__(self, Lpos=10, Ldir=4, hidden_dim=256):\n",
    "        super(Nerf, self).__init__()\n",
    "\n",
    "        self.block1 = nn.Sequential(\n",
    "            nn.Linear(Lpos * 6 + 3, hidden_dim),\n",
    "            nn.ReLU(),\n",
    "            nn.Linear(hidden_dim, hidden_dim),\n",
    "            nn.ReLU(),\n",
    "            nn.Linear(hidden_dim, hidden_dim),\n",
    "            nn.ReLU(),\n",
    "            nn.Linear(hidden_dim, hidden_dim),\n",
    "            nn.ReLU(),\n",
    "            nn.Linear(hidden_dim, hidden_dim),\n",
    "            nn.ReLU(),\n",
    "        )\n",
    "\n",
    "        self.block2 = nn.Sequential(\n",
    "            nn.Linear(hidden_dim + Lpos * 6 + 3, hidden_dim),\n",
    "            nn.ReLU(),\n",
    "            nn.Linear(hidden_dim, hidden_dim),\n",
    "            nn.ReLU(),\n",
    "            nn.Linear(hidden_dim, hidden_dim),\n",
    "            nn.ReLU(),\n",
    "            nn.Linear(hidden_dim, hidden_dim + 1),\n",
    "        )\n",
    "\n",
    "        self.rgb_head = nn.Sequential(\n",
    "            nn.Linear(hidden_dim + Ldir * 6 + 3, hidden_dim // 2),\n",
    "            nn.ReLU(),\n",
    "            nn.Linear(hidden_dim // 2, 3),\n",
    "            nn.Sigmoid(),\n",
    "        )\n",
    "\n",
    "        self.Lpos = Lpos\n",
    "        self.Ldir = Ldir\n",
    "\n",
    "    def positional_encoding(self, x, L):\n",
    "        out = [x]\n",
    "        for j in range(L):\n",
    "            out.append(torch.sin(2**j * x))\n",
    "            out.append(torch.cos(2**j * x))\n",
    "        return torch.cat(out, dim=1)\n",
    "\n",
    "    def forward(self, xyz, d):\n",
    "\n",
    "        x_emb = self.positional_encoding(xyz, self.Lpos)  # [batch_size, Lpos * 6 + 3]\n",
    "        d_emb = self.positional_encoding(d, self.Ldir)  # [batch_size, Ldir * 6 + 3]\n",
    "\n",
    "        h = self.block1(x_emb)  # [batch_size, hidden_dim]\n",
    "        h = self.block2(torch.cat((h, x_emb), dim=1))  # [batch_size, hidden_dim + 1]\n",
    "        sigma = h[:, -1]\n",
    "        h = h[:, :-1]  # [batch_size, hidden_dim]\n",
    "        c = self.rgb_head(torch.cat((h, d_emb), dim=1))\n",
    "\n",
    "        return c, torch.relu(sigma)\n",
    "\n",
    "    def intersect(self, x, d):\n",
    "        return self.forward(x, d)\n"
   ]
  },
  {
   "cell_type": "markdown",
   "metadata": {},
   "source": [
    "# Rendering"
   ]
  },
  {
   "cell_type": "markdown",
   "metadata": {},
   "source": [
    "## Prepare Input Rays"
   ]
  },
  {
   "cell_type": "code",
   "execution_count": 41,
   "metadata": {},
   "outputs": [
    {
     "data": {
      "text/plain": [
       "torch.Size([160000, 3])"
      ]
     },
     "execution_count": 41,
     "metadata": {},
     "output_type": "execute_result"
    }
   ],
   "source": [
    "H = W = 400\n",
    "idx = 4\n",
    "\n",
    "o = flat_data[idx*H*W:(idx+1)*H*W, :3].float() # 1 img -> [i: i+H*W, :3]\n",
    "d = flat_data[idx*H*W:(idx+1)*H*W, 3:6].float() # 1 img -> [i: i+H*W, 3:6]\n",
    "\n",
    "target = flat_data[idx*H*W:(idx+1)*H*W, 6:].float()\n",
    "\n",
    "model = torch.load('../Nerf_testing/NeRF_100/nerf_model_fox', map_location='mps')\n",
    "\n",
    "o.shape"
   ]
  },
  {
   "cell_type": "code",
   "execution_count": 50,
   "metadata": {},
   "outputs": [],
   "source": [
    "# Target Image\n",
    "target_img = target.reshape(400, 400, 3)\n",
    "target_img = target_img.detach().cpu().numpy()"
   ]
  },
  {
   "cell_type": "markdown",
   "metadata": {},
   "source": [
    "## Generate Output"
   ]
  },
  {
   "cell_type": "code",
   "execution_count": 73,
   "metadata": {},
   "outputs": [
    {
     "name": "stderr",
     "output_type": "stream",
     "text": [
      "100%|██████████| 20/20 [00:12<00:00,  1.55it/s]\n",
      "Clipping input data to the valid range for imshow with RGB data ([0..1] for floats or [0..255] for integers).\n"
     ]
    },
    {
     "data": {
      "image/png": "[encoded data removed]",
      "text/plain": [
       "<Figure size 640x480 with 2 Axes>"
      ]
     },
     "metadata": {},
     "output_type": "display_data"
    }
   ],
   "source": [
    "from skimage.metrics import peak_signal_noise_ratio, mean_squared_error, structural_similarity\n",
    "from skimage.color import rgb2gray\n",
    "\n",
    "chunk_size = 20 # Rendering part by part\n",
    "device = torch.device('mps')\n",
    "img_reg = []\n",
    "\n",
    "#! IMPORTANT\n",
    "with torch.no_grad():\n",
    "    for i in tqdm(range(int(np.ceil(400 / chunk_size)))):\n",
    "        ray_origins_ = o[i * 400 * chunk_size : (i + 1) * 400 * chunk_size].to(device)\n",
    "        ray_directions_ = d[i * 400 * chunk_size : (i + 1) * 400 * chunk_size].to(device)\n",
    "        \n",
    "        regenerated_px_values = render_rays(\n",
    "            model, ray_origins_, ray_directions_, hn=8, hf=12, nb_bins=100\n",
    "        )\n",
    "        \n",
    "        img_reg.append(regenerated_px_values)\n",
    "\n",
    "img = torch.cat(img_reg).data.cpu().numpy().reshape(400, 400, 3)\n",
    "fig, ax = plt.subplots(1, 2)\n",
    "ax[0].imshow(img)\n",
    "ax[0].set_title(\"Synthesized\")\n",
    "ax[1].imshow(target_img)\n",
    "ax[1].set_title(\"Actual\")\n",
    "\n",
    "psnr = peak_signal_noise_ratio(target_img, img)\n",
    "mse = mean_squared_error(target_img, img)\n",
    "ssim = structural_similarity(rgb2gray(target_img), rgb2gray(img), data_range=255)\n",
    "\n",
    "fig.suptitle(f\"PSNR: {psnr}\\nMSE: {mse}\\nSSIM: {ssim}\")"
   ]
  },
  {
   "cell_type": "code",
   "execution_count": 71,
   "metadata": {},
   "outputs": [
    {
     "name": "stdout",
     "output_type": "stream",
     "text": [
      "PSNR: 27.71269242682877\n",
      "MSE: 0.0016932877141683966\n",
      "SSIM: 0.9999203302568818\n"
     ]
    }
   ],
   "source": [
    "psnr = peak_signal_noise_ratio(target_img, img)\n",
    "mse = mean_squared_error(target_img, img)\n",
    "ssim = structural_similarity(rgb2gray(target_img), rgb2gray(img), data_range=255)\n",
    "\n",
    "print(f\"PSNR: {psnr}\")\n",
    "print(f\"MSE: {mse}\")\n",
    "print(f\"SSIM: {ssim}\")"
   ]
  },
  {
   "cell_type": "markdown",
   "metadata": {},
   "source": [
    "# Mesh Extraction"
   ]
  },
  {
   "cell_type": "markdown",
   "metadata": {},
   "source": [
    "In Progress..."
   ]
  },
  {
   "cell_type": "code",
   "execution_count": 8,
   "metadata": {},
   "outputs": [],
   "source": [
    "import mcubes\n",
    "import trimesh\n",
    "from backbones.nerf import NerfModel"
   ]
  },
  {
   "cell_type": "code",
   "execution_count": 9,
   "metadata": {},
   "outputs": [],
   "source": [
    "device = 'mps'\n",
    "hn = 8.\n",
    "hf = 12.\n",
    "model = torch.load('./models/nerf_model_plex_6.pth').to(device)"
   ]
  },
  {
   "cell_type": "code",
   "execution_count": 10,
   "metadata": {},
   "outputs": [
    {
     "name": "stderr",
     "output_type": "stream",
     "text": [
      "/Users/vansh/anaconda3/envs/main-ai/lib/python3.11/site-packages/torch/functional.py:504: UserWarning: torch.meshgrid: in an upcoming release, it will be required to pass the indexing argument. (Triggered internally at /Users/runner/work/_temp/anaconda/conda-bld/pytorch_1699448804225/work/aten/src/ATen/native/TensorShape.cpp:3527.)\n",
      "  return _VF.meshgrid(tensors, **kwargs)  # type: ignore[attr-defined]\n"
     ]
    }
   ],
   "source": [
    "N = 100\n",
    "scale = 2\n",
    "\n",
    "x = torch.linspace(-scale, scale, N)\n",
    "y = torch.linspace(-scale, scale, N)\n",
    "z = torch.linspace(-scale, scale, N)\n",
    "\n",
    "x, y, z = torch.meshgrid((x, y, z))"
   ]
  },
  {
   "cell_type": "code",
   "execution_count": 11,
   "metadata": {},
   "outputs": [],
   "source": [
    "xyz = torch.cat((x.reshape(-1, 1),\n",
    "                 y.reshape(-1, 1),\n",
    "                 z.reshape(-1, 1)), dim=1)"
   ]
  },
  {
   "cell_type": "code",
   "execution_count": 12,
   "metadata": {},
   "outputs": [],
   "source": [
    "with torch.no_grad():\n",
    "    _, density = model.forward(xyz.to(device), torch.zeros_like(xyz).to(device))\n",
    "    \n",
    "density = density.cpu().numpy().reshape(N, N, N)"
   ]
  },
  {
   "cell_type": "code",
   "execution_count": 13,
   "metadata": {},
   "outputs": [],
   "source": [
    "_, density = model.forward(xyz.to(device), torch.zeros_like(xyz).to(device))"
   ]
  },
  {
   "cell_type": "code",
   "execution_count": null,
   "metadata": {},
   "outputs": [],
   "source": [
    "vertices, triangles = mcubes.marching_cubes(density, 30 * np.mean(density))"
   ]
  },
  {
   "cell_type": "code",
   "execution_count": 7,
   "metadata": {},
   "outputs": [],
   "source": [
    "data = np.load('./data/training_data_.pkl', allow_pickle=True)"
   ]
  },
  {
   "cell_type": "code",
   "execution_count": 13,
   "metadata": {},
   "outputs": [
    {
     "data": {
      "text/plain": [
       "(16000000, 9)"
      ]
     },
     "execution_count": 13,
     "metadata": {},
     "output_type": "execute_result"
    }
   ],
   "source": [
    "data.shape"
   ]
  },
  {
   "cell_type": "code",
   "execution_count": 14,
   "metadata": {},
   "outputs": [
    {
     "ename": "ValueError",
     "evalue": "cannot reshape array of size 144000000 into shape (90,400,400,3)",
     "output_type": "error",
     "traceback": [
      "\u001b[0;31m---------------------------------------------------------------------------\u001b[0m",
      "\u001b[0;31mValueError\u001b[0m                                Traceback (most recent call last)",
      "Cell \u001b[0;32mIn[14], line 1\u001b[0m\n\u001b[0;32m----> 1\u001b[0m plt\u001b[38;5;241m.\u001b[39mimshow(\u001b[43mdata\u001b[49m\u001b[38;5;241;43m.\u001b[39;49m\u001b[43mreshape\u001b[49m\u001b[43m(\u001b[49m\u001b[38;5;241;43m90\u001b[39;49m\u001b[43m,\u001b[49m\u001b[43m \u001b[49m\u001b[38;5;241;43m400\u001b[39;49m\u001b[43m,\u001b[49m\u001b[43m \u001b[49m\u001b[38;5;241;43m400\u001b[39;49m\u001b[43m,\u001b[49m\u001b[43m \u001b[49m\u001b[38;5;241;43m3\u001b[39;49m\u001b[43m)\u001b[49m[:, :, :\u001b[38;5;241m3\u001b[39m])\n",
      "\u001b[0;31mValueError\u001b[0m: cannot reshape array of size 144000000 into shape (90,400,400,3)"
     ]
    }
   ],
   "source": [
    "plt.imshow(data.reshape(90, 400, 400, 3)[:, :, :3])"
   ]
  }
 ],
 "metadata": {
  "kernelspec": {
   "display_name": "main-ai",
   "language": "python",
   "name": "python3"
  },
  "language_info": {
   "codemirror_mode": {
    "name": "ipython",
    "version": 3
   },
   "file_extension": ".py",
   "mimetype": "text/x-python",
   "name": "python",
   "nbconvert_exporter": "python",
   "pygments_lexer": "ipython3",
   "version": "3.11.7"
  }
 },
 "nbformat": 4,
 "nbformat_minor": 2
}
